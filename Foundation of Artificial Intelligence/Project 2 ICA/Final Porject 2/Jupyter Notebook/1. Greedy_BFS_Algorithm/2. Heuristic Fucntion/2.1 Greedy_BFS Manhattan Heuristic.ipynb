{
 "cells": [
  {
   "cell_type": "code",
   "execution_count": null,
   "id": "ffdc9361",
   "metadata": {
    "lines_to_next_cell": 0
   },
   "outputs": [],
   "source": []
  },
  {
   "cell_type": "code",
   "execution_count": null,
   "id": "60c915b5",
   "metadata": {
    "lines_to_next_cell": 1
   },
   "outputs": [],
   "source": [
    "import heapq\n",
    "import time\n",
    "from pyamaze import maze, agent, COLOR, textLabel\n",
    "import tkinter as tk\n",
    "from tkinter import ttk  # For using the table-like grid in Tkinter"
   ]
  },
  {
   "cell_type": "code",
   "execution_count": null,
   "id": "0fd96b6e",
   "metadata": {
    "lines_to_next_cell": 1
   },
   "outputs": [],
   "source": [
    "# Manhattan Heuristic Function\n",
    "def manhattan_heuristic(a, b):\n",
    "    return abs(a[0] - b[0]) + abs(a[1] - b[1])"
   ]
  },
  {
   "cell_type": "code",
   "execution_count": null,
   "id": "7a484069",
   "metadata": {
    "lines_to_next_cell": 1
   },
   "outputs": [],
   "source": [
    "# Get next cell in the maze based on direction\n",
    "def get_next_cell(current, direction):\n",
    "    x, y = current\n",
    "    if direction == 'E':  # Move east\n",
    "        return (x, y + 1)\n",
    "    elif direction == 'W':  # Move west\n",
    "        return (x, y - 1)\n",
    "    elif direction == 'N':  # Move north\n",
    "        return (x - 1, y)\n",
    "    elif direction == 'S':  # Move south\n",
    "        return (x + 1, y)\n",
    "    return current"
   ]
  },
  {
   "cell_type": "code",
   "execution_count": null,
   "id": "f3f625eb",
   "metadata": {
    "lines_to_next_cell": 1
   },
   "outputs": [],
   "source": [
    "# Greedy BFS search algorithm with Manhattan heuristic\n",
    "def greedy_bfs_search(maze_obj, start=None, goal=None, heuristic_method=manhattan_heuristic):\n",
    "    if start is None:\n",
    "        start = (maze_obj.rows, maze_obj.cols)\n",
    "\n",
    "    if goal is None:\n",
    "        goal = (maze_obj.rows // 2, maze_obj.cols // 2)\n",
    "\n",
    "    # Min-heap priority queue\n",
    "    frontier = []\n",
    "    heapq.heappush(frontier, (heuristic_method(start, goal), start))  # (f-cost, position)\n",
    "    visited = {}\n",
    "    exploration_order = []\n",
    "    explored = set([start])\n",
    "\n",
    "    while frontier:\n",
    "        _, current = heapq.heappop(frontier)\n",
    "\n",
    "        if current == goal:\n",
    "            break\n",
    "\n",
    "        for direction in 'ESNW':\n",
    "            if maze_obj.maze_map[current][direction]:\n",
    "                next_cell = get_next_cell(current, direction)\n",
    "                \n",
    "                if next_cell not in explored:\n",
    "                    heapq.heappush(frontier, (heuristic_method(next_cell, goal), next_cell))\n",
    "                    visited[next_cell] = current\n",
    "                    exploration_order.append(next_cell)\n",
    "                    explored.add(next_cell)\n",
    "\n",
    "    # Reconstruct the path to the goal\n",
    "    path_to_goal = {}\n",
    "    cell = goal\n",
    "    while cell != start:\n",
    "        path_to_goal[visited[cell]] = cell\n",
    "        cell = visited[cell]\n",
    "\n",
    "    return exploration_order, visited, path_to_goal"
   ]
  },
  {
   "cell_type": "code",
   "execution_count": null,
   "id": "5ed2d9d0",
   "metadata": {
    "lines_to_next_cell": 1
   },
   "outputs": [],
   "source": [
    "# Function to update the Tkinter window with heuristic data\n",
    "def update_info_window(heuristic_name, goal_position, path_length, search_length, execution_time):\n",
    "    # Create a new Tkinter window\n",
    "    info_window = tk.Tk()\n",
    "    info_window.title(f\"{heuristic_name} Heuristic Information\")\n",
    "\n",
    "    # Create a Table (Treeview) to display the information\n",
    "    table = ttk.Treeview(info_window, columns=(\"Metric\", \"Value\"), show=\"headings\")\n",
    "    table.heading(\"Metric\", text=\"Metric\")\n",
    "    table.heading(\"Value\", text=\"Value\")\n",
    "\n",
    "    # Insert the data into the table\n",
    "    table.insert(\"\", \"end\", values=(\"Heuristic\", heuristic_name))\n",
    "    table.insert(\"\", \"end\", values=(\"Goal Position\", str(goal_position)))\n",
    "    table.insert(\"\", \"end\", values=(\"Path Length\", path_length))\n",
    "    table.insert(\"\", \"end\", values=(\"Search Length\", search_length))\n",
    "    table.insert(\"\", \"end\", values=(\"Execution Time (s)\", round(execution_time, 4)))\n",
    "\n",
    "    # Pack the table into the window\n",
    "    table.pack(fill=tk.BOTH, expand=True)\n",
    "\n",
    "    # Run the Tkinter main loop to display the window\n",
    "    info_window.mainloop()"
   ]
  },
  {
   "cell_type": "code",
   "execution_count": null,
   "id": "8049dcfd",
   "metadata": {
    "lines_to_next_cell": 1
   },
   "outputs": [],
   "source": [
    "# Function to display the heuristic data as text labels in the maze window\n",
    "def display_text_labels(m, heuristic_name, goal_position, path_length, search_length, execution_time):\n",
    "    # Position where the text labels will appear\n",
    "    x_position = 20\n",
    "    y_position = 50  # Starting y-position for text labels\n",
    "\n",
    "    # Display each information as text labels\n",
    "    textLabel(m, f'{heuristic_name} Heuristic - Goal Position: {goal_position}', (x_position, y_position))\n",
    "    y_position += 30\n",
    "    textLabel(m, f'{heuristic_name} Heuristic - Path Length: {path_length}', (x_position, y_position))\n",
    "    y_position += 30\n",
    "    textLabel(m, f'{heuristic_name} Heuristic - Search Length: {search_length}', (x_position, y_position))\n",
    "    y_position += 30\n",
    "    textLabel(m, f'{heuristic_name} Heuristic - Execution Time (s): {round(execution_time, 4)}', (x_position, y_position))"
   ]
  },
  {
   "cell_type": "code",
   "execution_count": null,
   "id": "6fb2883b",
   "metadata": {
    "lines_to_next_cell": 2
   },
   "outputs": [],
   "source": [
    "# Main function\n",
    "if __name__ == '__main__':\n",
    "    # Create maze and set goal position\n",
    "    m = maze(50, 120)\n",
    "    m.CreateMaze(loadMaze='...///Maze_1 for Heuristic_Function.csv')  # Update with correct path\n",
    "\n",
    "    goal_position = (1, 1)  # Example goal position\n",
    "\n",
    "    start_time = time.time()\n",
    "    exploration_order, visited_cells, path_to_goal = greedy_bfs_search(m, goal=goal_position, heuristic_method=manhattan_heuristic)\n",
    "    end_time = time.time()\n",
    "\n",
    "    execution_time = end_time - start_time\n",
    "    search_length = len(exploration_order)\n",
    "    path_length = len(path_to_goal) + 1  # Include the goal cell\n",
    "\n",
    "    # Visualization setup for agents\n",
    "    agent_explore = agent(m, footprints=True, shape='square', color=COLOR.red, filled=True)  # Exploration path (red circle)\n",
    "    agent_trace = agent(m, footprints=True, shape='square', color=COLOR.blue, filled=True)  # Path to goal (blue star)\n",
    "    agent_goal = agent(m, goal_position[0], goal_position[1], footprints=True, color=COLOR.green, shape='square', filled=True)  # Goal (green square)\n",
    "\n",
    "    m.tracePath({agent_explore: exploration_order}, delay=1)\n",
    "    m.tracePath({agent_trace: path_to_goal}, delay=1)\n",
    "    m.tracePath({agent_goal: visited_cells}, delay=1)\n",
    "\n",
    "    # Display heuristic information in a separate Tkinter window\n",
    "    update_info_window(\"Manhattan\", goal_position, path_length, search_length, execution_time)\n",
    "\n",
    "    # Display the same information as text labels in the maze window\n",
    "    display_text_labels(m, \"Manhattan\", goal_position, path_length, search_length, execution_time)\n",
    "\n",
    "    m.run()\n",
    "# ==================================================="
   ]
  }
 ],
 "metadata": {
  "jupytext": {
   "cell_metadata_filter": "-all",
   "main_language": "python",
   "notebook_metadata_filter": "-all"
  }
 },
 "nbformat": 4,
 "nbformat_minor": 5
}
