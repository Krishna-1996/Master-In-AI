{
 "cells": [
  {
   "cell_type": "code",
   "execution_count": null,
   "id": "ea237e9b",
   "metadata": {
    "lines_to_next_cell": 1
   },
   "outputs": [],
   "source": [
    "import heapq\n",
    "import math\n",
    "import tkinter as tk\n",
    "from tkinter import ttk\n",
    "from pyamaze import maze, agent, COLOR"
   ]
  },
  {
   "cell_type": "code",
   "execution_count": null,
   "id": "806f4777",
   "metadata": {
    "lines_to_next_cell": 1
   },
   "outputs": [],
   "source": [
    "# Manhattan Heuristic Function\n",
    "def manhattan_heuristic(a, b):\n",
    "    return abs(a[0] - b[0]) + abs(a[1] - b[1])"
   ]
  },
  {
   "cell_type": "code",
   "execution_count": null,
   "id": "45ad829a",
   "metadata": {
    "lines_to_next_cell": 1
   },
   "outputs": [],
   "source": [
    "# Euclidean Heuristic Function\n",
    "def euclidean_heuristic(a, b):\n",
    "    return math.sqrt((a[0] - b[0]) ** 2 + (a[1] - b[1]) ** 2)"
   ]
  },
  {
   "cell_type": "code",
   "execution_count": null,
   "id": "b0714d45",
   "metadata": {
    "lines_to_next_cell": 1
   },
   "outputs": [],
   "source": [
    "# Chebyshev Heuristic Function\n",
    "def chebyshev_heuristic(a, b):\n",
    "    return max(abs(a[0] - b[0]), abs(a[1] - b[1]))"
   ]
  },
  {
   "cell_type": "code",
   "execution_count": null,
   "id": "594696c0",
   "metadata": {
    "lines_to_next_cell": 1
   },
   "outputs": [],
   "source": [
    "# Get next cell in the maze based on direction\n",
    "def get_next_cell(current, direction):\n",
    "    x, y = current\n",
    "    if direction == 'E':  # Move east\n",
    "        return (x, y + 1)\n",
    "    elif direction == 'W':  # Move west\n",
    "        return (x, y - 1)\n",
    "    elif direction == 'N':  # Move north\n",
    "        return (x - 1, y)\n",
    "    elif direction == 'S':  # Move south\n",
    "        return (x + 1, y)\n",
    "    return current"
   ]
  },
  {
   "cell_type": "code",
   "execution_count": null,
   "id": "a32a0716",
   "metadata": {
    "lines_to_next_cell": 1
   },
   "outputs": [],
   "source": [
    "# Greedy BFS search algorithm with a specified heuristic\n",
    "def greedy_bfs_search(maze_obj, start=None, goal=None, heuristic_method=manhattan_heuristic):\n",
    "    if start is None:\n",
    "        start = (maze_obj.rows, maze_obj.cols)\n",
    "\n",
    "    if goal is None:\n",
    "        goal = (maze_obj.rows // 2, maze_obj.cols // 2)\n",
    "\n",
    "    # Min-heap priority queue\n",
    "    frontier = []\n",
    "    heapq.heappush(frontier, (heuristic_method(start, goal), start))  # (f-cost, position)\n",
    "    visited = {}\n",
    "    exploration_order = []\n",
    "    explored = set([start])\n",
    "\n",
    "    while frontier:\n",
    "        _, current = heapq.heappop(frontier)\n",
    "\n",
    "        if current == goal:\n",
    "            break\n",
    "\n",
    "        for direction in 'ESNW':\n",
    "            if maze_obj.maze_map[current][direction]:\n",
    "                next_cell = get_next_cell(current, direction)\n",
    "                \n",
    "                if next_cell not in explored:\n",
    "                    heapq.heappush(frontier, (heuristic_method(next_cell, goal), next_cell))\n",
    "                    visited[next_cell] = current\n",
    "                    exploration_order.append(next_cell)\n",
    "                    explored.add(next_cell)\n",
    "\n",
    "    # Reconstruct the path to the goal\n",
    "    path_to_goal = {}\n",
    "    cell = goal\n",
    "    while cell != start:\n",
    "        path_to_goal[visited[cell]] = cell\n",
    "        cell = visited[cell]\n",
    "\n",
    "    return exploration_order, visited, path_to_goal"
   ]
  },
  {
   "cell_type": "code",
   "execution_count": null,
   "id": "3cbcc5e7",
   "metadata": {
    "lines_to_next_cell": 1
   },
   "outputs": [],
   "source": [
    "# Function to display the heuristic data in a tabular format using Tkinter Treeview\n",
    "def display_info_window(path_lengths):\n",
    "    # Create a new Tkinter window for displaying the results\n",
    "    info_window = tk.Tk()\n",
    "    info_window.title(\"Path Length Comparison for Heuristics\")\n",
    "\n",
    "    # Create a table (Treeview) widget for displaying the metrics\n",
    "    table = ttk.Treeview(info_window, columns=(\"Heuristic\", \"Path Length\"), show=\"headings\")\n",
    "    table.heading(\"Heuristic\", text=\"Heuristic\")\n",
    "    table.heading(\"Path Length\", text=\"Path Length\")\n",
    "\n",
    "    # Insert the data into the table for all three heuristics\n",
    "    for heuristic, length in path_lengths.items():\n",
    "        table.insert(\"\", \"end\", values=(heuristic, length))\n",
    "\n",
    "    # Pack the table into the window\n",
    "    table.pack(fill=tk.BOTH, expand=True)\n",
    "\n",
    "    # Run the Tkinter main loop to display the window\n",
    "    info_window.mainloop()"
   ]
  },
  {
   "cell_type": "code",
   "execution_count": null,
   "id": "ea6aeeb0",
   "metadata": {},
   "outputs": [],
   "source": [
    "# Main function\n",
    "if __name__ == '__main__':\n",
    "    # Create the maze\n",
    "    m = maze(50, 120)\n",
    "    m.CreateMaze(loadMaze='...///Maze_1 for Heuristic_Function.csv')  # Update with correct path\n",
    "\n",
    "    goal_position = (1, 1)  # Example goal position\n",
    "\n",
    "    # Run Greedy BFS for Manhattan Heuristic\n",
    "    exploration_order_manhattan, visited_manhattan, path_to_goal_manhattan = greedy_bfs_search(m, goal=goal_position, heuristic_method=manhattan_heuristic)\n",
    "    path_length_manhattan = len(path_to_goal_manhattan) + 1  # Include the goal cell\n",
    "\n",
    "    # Run Greedy BFS for Euclidean Heuristic\n",
    "    exploration_order_euclidean, visited_euclidean, path_to_goal_euclidean = greedy_bfs_search(m, goal=goal_position, heuristic_method=euclidean_heuristic)\n",
    "    path_length_euclidean = len(path_to_goal_euclidean) + 1\n",
    "\n",
    "    # Run Greedy BFS for Chebyshev Heuristic\n",
    "    exploration_order_chebyshev, visited_chebyshev, path_to_goal_chebyshev = greedy_bfs_search(m, goal=goal_position, heuristic_method=chebyshev_heuristic)\n",
    "    path_length_chebyshev = len(path_to_goal_chebyshev) + 1\n",
    "\n",
    "    # Visualization setup for agents\n",
    "    agent_goal_manhattan = agent(m, footprints=True, shape='square', color=COLOR.red, filled=True)  # Red path for Manhattan\n",
    "    agent_goal_euclidean = agent(m, footprints=True, shape='square', color=COLOR.blue, filled=True)  # Blue path for Euclidean\n",
    "    agent_goal_chebyshev = agent(m, footprints=True, shape='square', color=COLOR.yellow, filled=True)  # Yellow path for Chebyshev\n",
    "\n",
    "    # Trace paths\n",
    "    m.tracePath({agent_goal_manhattan: path_to_goal_manhattan}, delay=1)\n",
    "    m.tracePath({agent_goal_euclidean: path_to_goal_euclidean}, delay=1)\n",
    "    m.tracePath({agent_goal_chebyshev: path_to_goal_chebyshev}, delay=1)\n",
    "\n",
    "    # Store the path lengths for each heuristic\n",
    "    path_lengths = {\n",
    "        \"Manhattan\": path_length_manhattan,\n",
    "        \"Euclidean\": path_length_euclidean,\n",
    "        \"Chebyshev\": path_length_chebyshev\n",
    "    }\n",
    "\n",
    "    # Display the information in tabular format for all three heuristics\n",
    "    display_info_window(path_lengths)\n",
    "\n",
    "    # Run the PyAmaze visualization (ensure this is the last line)\n",
    "    m.run()"
   ]
  }
 ],
 "metadata": {
  "jupytext": {
   "cell_metadata_filter": "-all",
   "main_language": "python",
   "notebook_metadata_filter": "-all"
  }
 },
 "nbformat": 4,
 "nbformat_minor": 5
}
