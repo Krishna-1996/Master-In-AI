{
 "cells": [
  {
   "cell_type": "code",
   "execution_count": null,
   "id": "2ce23273",
   "metadata": {
    "lines_to_next_cell": 1
   },
   "outputs": [],
   "source": [
    "import heapq\n",
    "import time\n",
    "import math\n",
    "from pyamaze import maze, agent, COLOR\n",
    "import tkinter as tk\n",
    "from tkinter import ttk"
   ]
  },
  {
   "cell_type": "code",
   "execution_count": null,
   "id": "b76f08cf",
   "metadata": {
    "lines_to_next_cell": 1
   },
   "outputs": [],
   "source": [
    "# Heuristic Functions\n",
    "def manhattan_heuristic(a, b):\n",
    "    return abs(a[0] - b[0]) + abs(a[1] - b[1])"
   ]
  },
  {
   "cell_type": "code",
   "execution_count": null,
   "id": "04e327e6",
   "metadata": {
    "lines_to_next_cell": 1
   },
   "outputs": [],
   "source": [
    "def euclidean_heuristic(a, b):\n",
    "    return math.sqrt((a[0] - b[0]) ** 2 + (a[1] - b[1]) ** 2)"
   ]
  },
  {
   "cell_type": "code",
   "execution_count": null,
   "id": "5b02436f",
   "metadata": {
    "lines_to_next_cell": 1
   },
   "outputs": [],
   "source": [
    "def chebyshev_heuristic(a, b):\n",
    "    return max(abs(a[0] - b[0]), abs(a[1] - b[1]))"
   ]
  },
  {
   "cell_type": "code",
   "execution_count": null,
   "id": "dc483b2d",
   "metadata": {
    "lines_to_next_cell": 1
   },
   "outputs": [],
   "source": [
    "# Directional weights\n",
    "directional_weights = {\n",
    "    'N': 10,  # Moving north costs\n",
    "    'E': 10,  # Moving east costs\n",
    "    'S': 10,  # Moving south costs\n",
    "    'W': 10,  # Moving west costs\n",
    "}"
   ]
  },
  {
   "cell_type": "code",
   "execution_count": null,
   "id": "be547771",
   "metadata": {
    "lines_to_next_cell": 1
   },
   "outputs": [],
   "source": [
    "# Get next cell in the maze based on direction\n",
    "def get_next_cell(current, direction):\n",
    "    x, y = current\n",
    "    if direction == 'E':  # Move east\n",
    "        return (x, y + 1)\n",
    "    elif direction == 'W':  # Move west\n",
    "        return (x, y - 1)\n",
    "    elif direction == 'N':  # Move north\n",
    "        return (x - 1, y)\n",
    "    elif direction == 'S':  # Move south\n",
    "        return (x + 1, y)\n",
    "    return current"
   ]
  },
  {
   "cell_type": "code",
   "execution_count": null,
   "id": "700d02b2",
   "metadata": {
    "lines_to_next_cell": 1
   },
   "outputs": [],
   "source": [
    "# Greedy BFS algorithm\n",
    "def greedy_bfs_search(maze_obj, start=None, goal=None, heuristic_method=manhattan_heuristic):\n",
    "    if start is None:\n",
    "        start = (maze_obj.rows, maze_obj.cols)\n",
    "\n",
    "    if goal is None:\n",
    "        goal = (maze_obj.rows // 2, maze_obj.cols // 2)\n",
    "\n",
    "    frontier = []\n",
    "    heapq.heappush(frontier, (heuristic_method(start, goal), start))  # (heuristic-cost, position)\n",
    "    visited = {}\n",
    "    exploration_order = []\n",
    "    explored = set([start])\n",
    "\n",
    "    while frontier:\n",
    "        _, current = heapq.heappop(frontier)\n",
    "\n",
    "        if current == goal:\n",
    "            break\n",
    "\n",
    "        for direction in 'ESNW':\n",
    "            if maze_obj.maze_map[current][direction]:\n",
    "                next_cell = get_next_cell(current, direction)\n",
    "\n",
    "                if next_cell not in explored:\n",
    "                    f_cost = heuristic_method(next_cell, goal)  # Greedy BFS uses only the heuristic\n",
    "                    heapq.heappush(frontier, (f_cost, next_cell))\n",
    "                    visited[next_cell] = current\n",
    "                    exploration_order.append(next_cell)\n",
    "                    explored.add(next_cell)\n",
    "\n",
    "    path_to_goal = {}\n",
    "    cell = goal\n",
    "    while cell != start:\n",
    "        path_to_goal[visited[cell]] = cell\n",
    "        cell = visited[cell]\n",
    "\n",
    "    # Return the exploration order and the path to the goal\n",
    "    return exploration_order, visited, path_to_goal, len(path_to_goal) + 1  # Include the goal cell"
   ]
  },
  {
   "cell_type": "code",
   "execution_count": null,
   "id": "ca9a37a0",
   "metadata": {
    "lines_to_next_cell": 1
   },
   "outputs": [],
   "source": [
    "# Function to update the Tkinter window with heuristic data\n",
    "def update_info_window(path_lengths):\n",
    "    info_window = tk.Tk()\n",
    "    info_window.title(f\"Heuristic Comparison Information\")\n",
    "\n",
    "    table = ttk.Treeview(info_window, columns=(\"Heuristic\", \"Path Length\"), show=\"headings\")\n",
    "    table.heading(\"Heuristic\", text=\"Heuristic\")\n",
    "    table.heading(\"Path Length\", text=\"Path Length\")\n",
    "\n",
    "    # Add information to the table\n",
    "    for heuristic_name, path_length in path_lengths.items():\n",
    "        table.insert(\"\", \"end\", values=(heuristic_name, path_length))\n",
    "\n",
    "    table.pack(fill=tk.BOTH, expand=True)\n",
    "    info_window.mainloop()"
   ]
  },
  {
   "cell_type": "code",
   "execution_count": null,
   "id": "f7c32317",
   "metadata": {
    "lines_to_next_cell": 1
   },
   "outputs": [],
   "source": [
    "# Main function to visualize the exploration paths\n",
    "def run_maze_with_all_exploration_paths():\n",
    "    m = maze()  # Adjust maze size for testing\n",
    "    m.CreateMaze(loadMaze='...///Maze_2 for Directional_Weight.csv')  # Adjust maze file path\n",
    "\n",
    "    goal_position = (1, 1)  # Example goal position\n",
    "    start_position = (m.rows, m.cols)\n",
    "\n",
    "    # Run for all heuristics\n",
    "    heuristics = [\n",
    "        (manhattan_heuristic, \"Manhattan\", COLOR.red),\n",
    "        (euclidean_heuristic, \"Euclidean\", COLOR.green),\n",
    "        (chebyshev_heuristic, \"Chebyshev\", COLOR.blue)\n",
    "    ]\n",
    "\n",
    "    # Create agents for each exploration path\n",
    "    agent_explore_manhattan = agent(m, footprints=True, shape='square', color=COLOR.red, filled=True)\n",
    "    agent_explore_euclidean = agent(m, footprints=True, shape='square', color=COLOR.green, filled=True)\n",
    "    agent_explore_chebyshev = agent(m, footprints=True, shape='square', color=COLOR.blue, filled=True)\n",
    "\n",
    "    # Trace exploration paths for each heuristic\n",
    "    for heuristic, name, color in heuristics:\n",
    "        # Run Greedy BFS search for each heuristic\n",
    "        exploration_order, visited_cells, path_to_goal, path_length = greedy_bfs_search(m, start=start_position, goal=goal_position, heuristic_method=heuristic)\n",
    "        \n",
    "        # Trace the exploration path (not the goal path) for this heuristic in its designated color\n",
    "        if name == \"Manhattan\":\n",
    "            m.tracePath({agent_explore_manhattan: exploration_order}, delay=1)\n",
    "        elif name == \"Euclidean\":\n",
    "            m.tracePath({agent_explore_euclidean: exploration_order}, delay=1)\n",
    "        elif name == \"Chebyshev\":\n",
    "            m.tracePath({agent_explore_chebyshev: exploration_order}, delay=1)\n",
    "\n",
    "    # Update Tkinter window with exploration path lengths for all heuristics\n",
    "    update_info_window({\n",
    "        \"Manhattan\": len(exploration_order),\n",
    "        \"Euclidean\": len(exploration_order),\n",
    "        \"Chebyshev\": len(exploration_order),\n",
    "    })\n",
    "\n",
    "    m.run()"
   ]
  },
  {
   "cell_type": "code",
   "execution_count": null,
   "id": "9b4bfc22",
   "metadata": {},
   "outputs": [],
   "source": [
    "# Run the main function\n",
    "if __name__ == '__main__':\n",
    "    run_maze_with_all_exploration_paths()"
   ]
  }
 ],
 "metadata": {
  "jupytext": {
   "cell_metadata_filter": "-all",
   "main_language": "python",
   "notebook_metadata_filter": "-all"
  }
 },
 "nbformat": 4,
 "nbformat_minor": 5
}
