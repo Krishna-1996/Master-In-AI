{
 "cells": [
  {
   "cell_type": "code",
   "execution_count": null,
   "id": "c0d0c76b",
   "metadata": {},
   "outputs": [],
   "source": [
    "import matplotlib.pyplot as plt\n",
    "import pandas as pd"
   ]
  },
  {
   "cell_type": "code",
   "execution_count": null,
   "id": "27118942",
   "metadata": {},
   "outputs": [],
   "source": [
    "# Data for Greedy BFS Algorithm\n",
    "data_greedy_bfs = {\n",
    "    \"Direction\": [\"N,E,S,W\"] * 8,\n",
    "    \"Weight\": [\n",
    "        (10, -10, -10, 10), (-10, 10, 10, -10), (0, 10, 10, 0),\n",
    "        (0, -10, -10, 0), (0, 0, 0, 0), (10, 10, 10, 10),\n",
    "        (-10, 0, 0, -10), (10, 0, 0, 10)\n",
    "    ],\n",
    "    \"Manhattan Path Length\": [1837, 1837, 1837, 1837, 1837, 1837, 1837, 1837],\n",
    "    \"Manhattan Search Length\": [4377, 4377, 4377, 4377, 4377, 4377, 4377, 4377],\n",
    "    \"Euclidean Path Length\": [1841, 1841, 1841, 1841, 1841, 1841, 1841, 1841],\n",
    "    \"Euclidean Search Length\": [4377, 4377, 4377, 4377, 4377, 4377, 4377, 4377],\n",
    "    \"Chebyshev Path Length\": [1735, 1735, 1735, 1735, 1735, 1735, 1735, 1735],\n",
    "    \"Chebyshev Search Length\": [4377, 4377, 4377, 4377, 4377, 4377, 4377, 4377]\n",
    "}"
   ]
  },
  {
   "cell_type": "code",
   "execution_count": null,
   "id": "7dba96f3",
   "metadata": {},
   "outputs": [],
   "source": [
    "# Create DataFrame\n",
    "df_greedy_bfs = pd.DataFrame(data_greedy_bfs)"
   ]
  },
  {
   "cell_type": "code",
   "execution_count": null,
   "id": "690f276d",
   "metadata": {},
   "outputs": [],
   "source": [
    "# Extract values for plotting\n",
    "weights_greedy = df_greedy_bfs[\"Weight\"].apply(str).tolist()\n",
    "manhattan_path = df_greedy_bfs[\"Manhattan Path Length\"].tolist()\n",
    "euclidean_path = df_greedy_bfs[\"Euclidean Path Length\"].tolist()\n",
    "chebyshev_path = df_greedy_bfs[\"Chebyshev Path Length\"].tolist()"
   ]
  },
  {
   "cell_type": "code",
   "execution_count": null,
   "id": "045a16b2",
   "metadata": {},
   "outputs": [],
   "source": [
    "manhattan_search = df_greedy_bfs[\"Manhattan Search Length\"].tolist()\n",
    "euclidean_search = df_greedy_bfs[\"Euclidean Search Length\"].tolist()\n",
    "chebyshev_search = df_greedy_bfs[\"Chebyshev Search Length\"].tolist()"
   ]
  },
  {
   "cell_type": "markdown",
   "id": "c497344f",
   "metadata": {},
   "source": [
    "Plot 1: Path Lengths"
   ]
  },
  {
   "cell_type": "code",
   "execution_count": null,
   "id": "f1da891e",
   "metadata": {},
   "outputs": [],
   "source": [
    "fig, ax1 = plt.subplots(figsize=(12, 8))"
   ]
  },
  {
   "cell_type": "code",
   "execution_count": null,
   "id": "9b889514",
   "metadata": {},
   "outputs": [],
   "source": [
    "ax1.plot(weights_greedy, manhattan_path, label=\"Manhattan Path Length\", color='blue', marker='o', linestyle='-', linewidth=2)\n",
    "ax1.plot(weights_greedy, euclidean_path, label=\"Euclidean Path Length\", color='green', marker='s', linestyle='--', linewidth=2)\n",
    "ax1.plot(weights_greedy, chebyshev_path, label=\"Chebyshev Path Length\", color='red', marker='^', linestyle='-.', linewidth=2)"
   ]
  },
  {
   "cell_type": "code",
   "execution_count": null,
   "id": "fb53e7c2",
   "metadata": {},
   "outputs": [],
   "source": [
    "ax1.set_xlabel('Weights')\n",
    "ax1.set_ylabel('Path Length', color='black')\n",
    "ax1.tick_params(axis='y', labelcolor='black')\n",
    "ax1.set_title('Greedy BFS Algorithm - Path Lengths for Different Heuristics')\n",
    "ax1.legend(loc='upper left', bbox_to_anchor=(0, 1), frameon=False)\n",
    "plt.xticks(rotation=45, ha='right')\n",
    "plt.grid(True)\n",
    "plt.tight_layout()\n",
    "plt.show()"
   ]
  },
  {
   "cell_type": "markdown",
   "id": "743465c8",
   "metadata": {},
   "source": [
    "Plot 2: Search Length"
   ]
  },
  {
   "cell_type": "code",
   "execution_count": null,
   "id": "512d9066",
   "metadata": {},
   "outputs": [],
   "source": [
    "fig, ax2 = plt.subplots(figsize=(12, 8))"
   ]
  },
  {
   "cell_type": "code",
   "execution_count": null,
   "id": "6db7906c",
   "metadata": {},
   "outputs": [],
   "source": [
    "ax2.plot(weights_greedy, manhattan_search, label=\"Manhattan Search Length\", color='blue', marker='o', linestyle=':', linewidth=2)\n",
    "ax2.plot(weights_greedy, euclidean_search, label=\"Euclidean Search Length\", color='green', marker='s', linestyle=':', linewidth=2)\n",
    "ax2.plot(weights_greedy, chebyshev_search, label=\"Chebyshev Search Length\", color='red', marker='^', linestyle=':', linewidth=2)"
   ]
  },
  {
   "cell_type": "code",
   "execution_count": null,
   "id": "e31ee259",
   "metadata": {},
   "outputs": [],
   "source": [
    "ax2.set_xlabel('Weights')\n",
    "ax2.set_ylabel('Search Length', color='gray')\n",
    "ax2.tick_params(axis='y', labelcolor='gray')\n",
    "ax2.set_title('Greedy BFS Algorithm - Search Lengths for Different Heuristics')\n",
    "ax2.legend(loc='upper left', bbox_to_anchor=(0, 1), frameon=False)\n",
    "plt.xticks(rotation=45, ha='right')\n",
    "plt.grid(True)\n",
    "plt.tight_layout()\n",
    "plt.show()"
   ]
  }
 ],
 "metadata": {
  "jupytext": {
   "cell_metadata_filter": "-all",
   "main_language": "python",
   "notebook_metadata_filter": "-all"
  }
 },
 "nbformat": 4,
 "nbformat_minor": 5
}
