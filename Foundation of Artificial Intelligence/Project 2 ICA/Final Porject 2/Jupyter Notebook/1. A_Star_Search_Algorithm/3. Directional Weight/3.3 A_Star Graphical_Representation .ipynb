{
 "cells": [
  {
   "cell_type": "code",
   "execution_count": null,
   "id": "3b151795",
   "metadata": {},
   "outputs": [],
   "source": [
    "import matplotlib.pyplot as plt\n",
    "import pandas as pd"
   ]
  },
  {
   "cell_type": "code",
   "execution_count": null,
   "id": "d76a1fa7",
   "metadata": {},
   "outputs": [],
   "source": [
    "# Data for A* Search Algorithm\n",
    "data_astar = {\n",
    "    \"Direction\": [\"N,E,S,W\"] * 8,\n",
    "    \"Weight\": [\n",
    "        (10, -10, -10, 10), (-10, 10, 10, -10), (0, 10, 10, 0),\n",
    "        (0, -10, -10, 0), (0, 0, 0, 0), (10, 10, 10, 10),\n",
    "        (-10, 0, 0, -10), (10, 0, 0, 10)\n",
    "    ],\n",
    "    \"Manhattan Path Length\": [1187, 1187, 1075, None, 1837, 1075, None, 1075],\n",
    "    \"Manhattan Search Length\": [8999, 5277, 9090, None, 4377, 8984, None, 8996],\n",
    "    \"Euclidean Path Length\": [1173, 1795, 1075, None, 1841, 1075, None, 1075],\n",
    "    \"Euclidean Search Length\": [8999, 5277, 9090, None, 4377, 8984, None, 8996],\n",
    "    \"Chebyshev Path Length\": [1173, 1795, 1075, None, 1735, 1075, None, 1075],\n",
    "    \"Chebyshev Search Length\": [8999, 5277, 9090, None, 4377, 8984, None, 8996]\n",
    "}"
   ]
  },
  {
   "cell_type": "code",
   "execution_count": null,
   "id": "5373da4d",
   "metadata": {},
   "outputs": [],
   "source": [
    "# Create DataFrame\n",
    "df_astar = pd.DataFrame(data_astar)"
   ]
  },
  {
   "cell_type": "code",
   "execution_count": null,
   "id": "c86f2bd2",
   "metadata": {},
   "outputs": [],
   "source": [
    "# Clean the data (drop rows with NaN values)\n",
    "df_astar_clean = df_astar.dropna(subset=[\"Manhattan Path Length\", \"Euclidean Path Length\", \"Chebyshev Path Length\"])"
   ]
  },
  {
   "cell_type": "code",
   "execution_count": null,
   "id": "8845d8c6",
   "metadata": {},
   "outputs": [],
   "source": [
    "# Extract values for plotting\n",
    "weights_astar = df_astar_clean[\"Weight\"].apply(str).tolist()\n",
    "manhattan_path_astar = df_astar_clean[\"Manhattan Path Length\"].tolist()\n",
    "euclidean_path_astar = df_astar_clean[\"Euclidean Path Length\"].tolist()\n",
    "chebyshev_path_astar = df_astar_clean[\"Chebyshev Path Length\"].tolist()"
   ]
  },
  {
   "cell_type": "code",
   "execution_count": null,
   "id": "54ecfb15",
   "metadata": {},
   "outputs": [],
   "source": [
    "manhattan_search_astar = df_astar_clean[\"Manhattan Search Length\"].tolist()\n",
    "euclidean_search_astar = df_astar_clean[\"Euclidean Search Length\"].tolist()\n",
    "chebyshev_search_astar = df_astar_clean[\"Chebyshev Search Length\"].tolist()"
   ]
  },
  {
   "cell_type": "code",
   "execution_count": null,
   "id": "109943f8",
   "metadata": {},
   "outputs": [],
   "source": [
    "# --- Plot 1: Path Lengths for A* ---\n",
    "fig, ax1 = plt.subplots(figsize=(12, 8))"
   ]
  },
  {
   "cell_type": "code",
   "execution_count": null,
   "id": "5c2a8c21",
   "metadata": {},
   "outputs": [],
   "source": [
    "# Set the title and labels before plotting the data\n",
    "ax1.set_title('A* Search Algorithm - Path Lengths for Different Heuristics')\n",
    "ax1.set_xlabel('Weights')\n",
    "ax1.set_ylabel('Path Length', color='black')\n",
    "ax1.tick_params(axis='y', labelcolor='black')"
   ]
  },
  {
   "cell_type": "code",
   "execution_count": null,
   "id": "1bfbce98",
   "metadata": {
    "lines_to_next_cell": 2
   },
   "outputs": [],
   "source": [
    "# First plot the data points (markers) to avoid lines covering the points\n",
    "ax1.scatter(weights_astar, euclidean_path_astar, label=\"Euclidean Path Length\", color='green', marker='s', s=100)\n",
    "ax1.scatter(weights_astar, manhattan_path_astar, label=\"Manhattan Path Length\", color='blue', marker='o', s=100)\n",
    "ax1.scatter(weights_astar, chebyshev_path_astar, label=\"Chebyshev Path Length\", color='red', marker='^', s=100)"
   ]
  },
  {
   "cell_type": "code",
   "execution_count": null,
   "id": "38a425c9",
   "metadata": {
    "lines_to_next_cell": 2
   },
   "outputs": [],
   "source": [
    "# Now plot the lines (after the data points)\n",
    "ax1.plot(weights_astar, euclidean_path_astar, color='green', linestyle='--', linewidth=2, alpha=0.5)\n",
    "ax1.plot(weights_astar, manhattan_path_astar, color='blue', linestyle='-', linewidth=2, alpha=0.5)\n",
    "ax1.plot(weights_astar, chebyshev_path_astar, color='red', linestyle='-.', linewidth=2, alpha=0.5)"
   ]
  },
  {
   "cell_type": "code",
   "execution_count": null,
   "id": "ea499142",
   "metadata": {},
   "outputs": [],
   "source": [
    "ax1.legend(loc='upper left', bbox_to_anchor=(0, 1), frameon=False)\n",
    "plt.xticks(rotation=45, ha='right')\n",
    "plt.grid(True)\n",
    "plt.tight_layout()\n",
    "plt.show()"
   ]
  },
  {
   "cell_type": "code",
   "execution_count": null,
   "id": "0c6e6a04",
   "metadata": {},
   "outputs": [],
   "source": [
    "# --- Plot 2: Search Lengths for A* ---\n",
    "fig, ax2 = plt.subplots(figsize=(12, 8))"
   ]
  },
  {
   "cell_type": "code",
   "execution_count": null,
   "id": "180f90ce",
   "metadata": {},
   "outputs": [],
   "source": [
    "# Set the title and labels before plotting the data\n",
    "ax2.set_title('A* Search Algorithm - Search Lengths for Different Heuristics')\n",
    "ax2.set_xlabel('Weights')\n",
    "ax2.set_ylabel('Search Length', color='gray')\n",
    "ax2.tick_params(axis='y', labelcolor='gray')"
   ]
  },
  {
   "cell_type": "code",
   "execution_count": null,
   "id": "127d54eb",
   "metadata": {
    "lines_to_next_cell": 2
   },
   "outputs": [],
   "source": [
    "# First plot the data points (markers) to avoid lines covering the points\n",
    "ax2.scatter(weights_astar, euclidean_search_astar, label=\"Euclidean Search Length\", color='green', marker='s', s=100)\n",
    "ax2.scatter(weights_astar, manhattan_search_astar, label=\"Manhattan Search Length\", color='blue', marker='o', s=100)\n",
    "ax2.scatter(weights_astar, chebyshev_search_astar, label=\"Chebyshev Search Length\", color='red', marker='^', s=100)"
   ]
  },
  {
   "cell_type": "code",
   "execution_count": null,
   "id": "3fdfea51",
   "metadata": {
    "lines_to_next_cell": 2
   },
   "outputs": [],
   "source": [
    "# Now plot the lines (after the data points)\n",
    "ax2.plot(weights_astar, euclidean_search_astar, color='green', linestyle=':', linewidth=2, alpha=0.5)\n",
    "ax2.plot(weights_astar, manhattan_search_astar, color='blue', linestyle=':', linewidth=2, alpha=0.5)\n",
    "ax2.plot(weights_astar, chebyshev_search_astar, color='red', linestyle=':', linewidth=2, alpha=0.5)"
   ]
  },
  {
   "cell_type": "code",
   "execution_count": null,
   "id": "c63b9434",
   "metadata": {},
   "outputs": [],
   "source": [
    "ax2.legend(loc='upper left', bbox_to_anchor=(0, 1), frameon=False)\n",
    "plt.xticks(rotation=45, ha='right')\n",
    "plt.grid(True)\n",
    "plt.tight_layout()\n",
    "plt.show()"
   ]
  }
 ],
 "metadata": {
  "jupytext": {
   "cell_metadata_filter": "-all",
   "main_language": "python",
   "notebook_metadata_filter": "-all"
  }
 },
 "nbformat": 4,
 "nbformat_minor": 5
}
