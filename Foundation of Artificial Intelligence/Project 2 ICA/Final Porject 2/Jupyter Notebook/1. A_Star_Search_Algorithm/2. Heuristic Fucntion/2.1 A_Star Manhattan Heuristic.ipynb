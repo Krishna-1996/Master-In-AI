{
 "cells": [
  {
   "cell_type": "code",
   "execution_count": 8,
   "id": "515209c0",
   "metadata": {
    "lines_to_next_cell": 1
   },
   "outputs": [],
   "source": [
    "import heapq\n",
    "import time\n",
    "from pyamaze import maze, agent, COLOR, textLabel\n",
    "import tkinter as tk\n",
    "from tkinter import ttk  "
   ]
  },
  {
   "cell_type": "code",
   "execution_count": 9,
   "id": "f70a91b1",
   "metadata": {
    "lines_to_next_cell": 1
   },
   "outputs": [],
   "source": [
    "# Manhattan Heuristic Function\n",
    "def manhattan_heuristic(a, b):\n",
    "    return abs(a[0] - b[0]) + abs(a[1] - b[1])"
   ]
  },
  {
   "cell_type": "code",
   "execution_count": 10,
   "id": "a715c46a",
   "metadata": {
    "lines_to_next_cell": 0
   },
   "outputs": [],
   "source": [
    "# Get next cell in the maze based on direction\n",
    "def get_next_cell(current, direction):\n",
    "    x, y = current\n",
    "    if direction == 'E':  # Move east\n",
    "        return (x, y + 1)\n",
    "    elif direction == 'W':  # Move west\n",
    "        return (x, y - 1)\n",
    "    elif direction == 'N':  # Move north\n",
    "        return (x - 1, y)\n",
    "    elif direction == 'S':  # Move south\n",
    "        return (x + 1, y)\n",
    "    return current"
   ]
  },
  {
   "cell_type": "code",
   "execution_count": 11,
   "id": "ac1a434d",
   "metadata": {
    "lines_to_next_cell": 1
   },
   "outputs": [],
   "source": [
    "# A* search algorithm with Manhattan heuristic\n",
    "def A_star_search(maze_obj, start=None, goal=None, heuristic_method=manhattan_heuristic):\n",
    "    if start is None:\n",
    "        start = (maze_obj.rows, maze_obj.cols)\n",
    "\n",
    "    if goal is None:\n",
    "        goal = (maze_obj.rows // 2, maze_obj.cols // 2)\n",
    "\n",
    "    # Min-heap priority queue\n",
    "    frontier = []\n",
    "    heapq.heappush(frontier, (0 + heuristic_method(start, goal), start))  # (f-cost, position)\n",
    "    visited = {}\n",
    "    exploration_order = []\n",
    "    explored = set([start])\n",
    "    g_costs = {start: 0}\n",
    "\n",
    "    while frontier:\n",
    "        _, current = heapq.heappop(frontier)\n",
    "        if current == goal:\n",
    "            break\n",
    "        for direction in 'ESNW':\n",
    "            if maze_obj.maze_map[current][direction]:\n",
    "                next_cell = get_next_cell(current, direction)\n",
    "                new_g_cost = g_costs[current] + 1  # +1 for each move (uniform cost)\n",
    "                \n",
    "                if next_cell not in explored or new_g_cost < g_costs.get(next_cell, float('inf')):\n",
    "                    g_costs[next_cell] = new_g_cost\n",
    "                    f_cost = new_g_cost + heuristic_method(next_cell, goal)\n",
    "                    heapq.heappush(frontier, (f_cost, next_cell))\n",
    "                    visited[next_cell] = current\n",
    "                    exploration_order.append(next_cell)\n",
    "                    explored.add(next_cell)\n",
    "\n",
    "    # Reconstruct the path to the goal\n",
    "    path_to_goal = {}\n",
    "    cell = goal\n",
    "    while cell != start:\n",
    "        path_to_goal[visited[cell]] = cell\n",
    "        cell = visited[cell]\n",
    "\n",
    "    return exploration_order, visited, path_to_goal"
   ]
  },
  {
   "cell_type": "code",
   "execution_count": 12,
   "id": "3b2bd593",
   "metadata": {
    "lines_to_next_cell": 0
   },
   "outputs": [],
   "source": [
    "# Function to update the Tkinter window with heuristic data\n",
    "def update_info_window(heuristic_name, goal_position, path_length, search_length, execution_time):\n",
    "    # Create a new Tkinter window\n",
    "    info_window = tk.Tk()\n",
    "    info_window.title(f\"{heuristic_name} Heuristic Information\")\n",
    "\n",
    "    # Create a Table (Treeview) to display the information\n",
    "    table = ttk.Treeview(info_window, columns=(\"Metric\", \"Value\"), show=\"headings\")\n",
    "    table.heading(\"Metric\", text=\"Metric\")\n",
    "    table.heading(\"Value\", text=\"Value\")\n",
    "\n",
    "    # Insert the data into the table\n",
    "    table.insert(\"\", \"end\", values=(\"Heuristic\", heuristic_name))\n",
    "    table.insert(\"\", \"end\", values=(\"Goal Position\", str(goal_position)))\n",
    "    table.insert(\"\", \"end\", values=(\"Path Length\", path_length))\n",
    "    table.insert(\"\", \"end\", values=(\"Search Length\", search_length))\n",
    "    table.insert(\"\", \"end\", values=(\"Execution Time (s)\", round(execution_time, 4)))\n",
    "\n",
    "    # Pack the table into the window\n",
    "    table.pack(fill=tk.BOTH, expand=True)\n",
    "\n",
    "    # Run the Tkinter main loop to display the window\n",
    "    info_window.mainloop()"
   ]
  },
  {
   "cell_type": "code",
   "execution_count": 13,
   "id": "1b14636a",
   "metadata": {
    "lines_to_next_cell": 0
   },
   "outputs": [],
   "source": [
    "# Function to display the heuristic data as text labels in the maze window\n",
    "def display_text_labels(m, heuristic_name, goal_position, path_length, search_length, execution_time):\n",
    "    # Position where the text labels will appear\n",
    "    x_position = 20\n",
    "    y_position = 50  # Starting y-position for text labels\n",
    "\n",
    "    # Display each information as text labels\n",
    "    textLabel(m, f'{heuristic_name} Heuristic - Goal Position: {goal_position}', (x_position, y_position))\n",
    "    y_position += 30\n",
    "    textLabel(m, f'{heuristic_name} Heuristic - Path Length: {path_length}', (x_position, y_position))\n",
    "    y_position += 30\n",
    "    textLabel(m, f'{heuristic_name} Heuristic - Search Length: {search_length}', (x_position, y_position))\n",
    "    y_position += 30\n",
    "    textLabel(m, f'{heuristic_name} Heuristic - Execution Time (s): {round(execution_time, 4)}', (x_position, y_position))"
   ]
  },
  {
   "cell_type": "code",
   "execution_count": 14,
   "id": "25c4592e",
   "metadata": {
    "lines_to_next_cell": 2
   },
   "outputs": [
    {
     "ename": "FileNotFoundError",
     "evalue": "[Errno 2] No such file or directory: '...///Maze_1 for Heuristic_Function.csv'",
     "output_type": "error",
     "traceback": [
      "\u001b[1;31m---------------------------------------------------------------------------\u001b[0m",
      "\u001b[1;31mFileNotFoundError\u001b[0m                         Traceback (most recent call last)",
      "Cell \u001b[1;32mIn[14], line 5\u001b[0m\n\u001b[0;32m      2\u001b[0m \u001b[38;5;28;01mif\u001b[39;00m \u001b[38;5;18m__name__\u001b[39m \u001b[38;5;241m==\u001b[39m \u001b[38;5;124m'\u001b[39m\u001b[38;5;124m__main__\u001b[39m\u001b[38;5;124m'\u001b[39m:\n\u001b[0;32m      3\u001b[0m     \u001b[38;5;66;03m# Create maze and set goal position\u001b[39;00m\n\u001b[0;32m      4\u001b[0m     m \u001b[38;5;241m=\u001b[39m maze(\u001b[38;5;241m50\u001b[39m, \u001b[38;5;241m120\u001b[39m)\n\u001b[1;32m----> 5\u001b[0m     \u001b[43mm\u001b[49m\u001b[38;5;241;43m.\u001b[39;49m\u001b[43mCreateMaze\u001b[49m\u001b[43m(\u001b[49m\u001b[43mloadMaze\u001b[49m\u001b[38;5;241;43m=\u001b[39;49m\u001b[38;5;124;43m'\u001b[39;49m\u001b[38;5;124;43m...///Maze_1 for Heuristic_Function.csv\u001b[39;49m\u001b[38;5;124;43m'\u001b[39;49m\u001b[43m)\u001b[49m  \u001b[38;5;66;03m# Path updated\u001b[39;00m\n\u001b[0;32m      7\u001b[0m     goal_position \u001b[38;5;241m=\u001b[39m (\u001b[38;5;241m1\u001b[39m, \u001b[38;5;241m1\u001b[39m)  \u001b[38;5;66;03m# Example goal position\u001b[39;00m\n\u001b[0;32m      9\u001b[0m     start_time \u001b[38;5;241m=\u001b[39m time\u001b[38;5;241m.\u001b[39mtime()\n",
      "File \u001b[1;32m~\\AppData\\Local\\Packages\\PythonSoftwareFoundation.Python.3.12_qbz5n2kfra8p0\\LocalCache\\local-packages\\Python312\\site-packages\\pyamaze\\pyamaze.py:581\u001b[0m, in \u001b[0;36mmaze.CreateMaze\u001b[1;34m(self, x, y, pattern, loopPercent, saveMaze, loadMaze, theme)\u001b[0m\n\u001b[0;32m    578\u001b[0m         \u001b[38;5;28mself\u001b[39m\u001b[38;5;241m.\u001b[39mpath\u001b[38;5;241m=\u001b[39mBFS((\u001b[38;5;28mself\u001b[39m\u001b[38;5;241m.\u001b[39mrows,\u001b[38;5;28mself\u001b[39m\u001b[38;5;241m.\u001b[39mcols))\n\u001b[0;32m    579\u001b[0m \u001b[38;5;28;01melse\u001b[39;00m:\n\u001b[0;32m    580\u001b[0m     \u001b[38;5;66;03m# Load maze from CSV file\u001b[39;00m\n\u001b[1;32m--> 581\u001b[0m     \u001b[38;5;28;01mwith\u001b[39;00m \u001b[38;5;28;43mopen\u001b[39;49m\u001b[43m(\u001b[49m\u001b[43mloadMaze\u001b[49m\u001b[43m,\u001b[49m\u001b[38;5;124;43m'\u001b[39;49m\u001b[38;5;124;43mr\u001b[39;49m\u001b[38;5;124;43m'\u001b[39;49m\u001b[43m)\u001b[49m \u001b[38;5;28;01mas\u001b[39;00m f:\n\u001b[0;32m    582\u001b[0m         last\u001b[38;5;241m=\u001b[39m\u001b[38;5;28mlist\u001b[39m(f\u001b[38;5;241m.\u001b[39mreadlines())[\u001b[38;5;241m-\u001b[39m\u001b[38;5;241m1\u001b[39m]\n\u001b[0;32m    583\u001b[0m         c\u001b[38;5;241m=\u001b[39mlast\u001b[38;5;241m.\u001b[39msplit(\u001b[38;5;124m'\u001b[39m\u001b[38;5;124m,\u001b[39m\u001b[38;5;124m'\u001b[39m)\n",
      "\u001b[1;31mFileNotFoundError\u001b[0m: [Errno 2] No such file or directory: '...///Maze_1 for Heuristic_Function.csv'"
     ]
    }
   ],
   "source": [
    "# Main function\n",
    "if __name__ == '__main__':\n",
    "    # Create maze and set goal position\n",
    "    m = maze(50, 120)\n",
    "    m.CreateMaze(loadMaze='...///Maze_1 for Heuristic_Function.csv')  # Path updated\n",
    "\n",
    "    goal_position = (1, 1)  # Example goal position\n",
    "\n",
    "    start_time = time.time()\n",
    "    exploration_order, visited_cells, path_to_goal = A_star_search(m, \n",
    "        goal=goal_position, heuristic_method=manhattan_heuristic)\n",
    "    end_time = time.time()\n",
    "\n",
    "    execution_time = end_time - start_time\n",
    "    search_length = len(exploration_order)\n",
    "    path_length = len(path_to_goal) + 1  # Include the goal cell\n",
    "\n",
    "    # Visualization setup for agents\n",
    "    agent_explore = agent(m, footprints=True, shape='square', color=COLOR.red, filled=True)  # Exploration path (red circle)\n",
    "    agent_trace = agent(m, footprints=True, shape='square', color=COLOR.blue, filled=True)  # Path to goal (blue star)\n",
    "    agent_goal = agent(m, goal_position[0], goal_position[1], footprints=True, color=COLOR.green, shape='square', filled=True)  # Goal (green square)\n",
    "\n",
    "    m.tracePath({agent_explore: exploration_order}, delay=1)\n",
    "    m.tracePath({agent_trace: path_to_goal}, delay=1)\n",
    "    m.tracePath({agent_goal: visited_cells}, delay=1)\n",
    "\n",
    "    # Display heuristic information in a separate Tkinter window\n",
    "    update_info_window(\"Manhattan\", goal_position, path_length, search_length, execution_time)\n",
    "\n",
    "    # Display the same information as text labels in the maze window\n",
    "    display_text_labels(m, \"Manhattan\", goal_position, path_length, search_length, execution_time)\n",
    "\n",
    "    m.run()"
   ]
  }
 ],
 "metadata": {
  "jupytext": {
   "cell_metadata_filter": "-all",
   "main_language": "python",
   "notebook_metadata_filter": "-all"
  },
  "kernelspec": {
   "display_name": "Python 3",
   "language": "python",
   "name": "python3"
  },
  "language_info": {
   "codemirror_mode": {
    "name": "ipython",
    "version": 3
   },
   "file_extension": ".py",
   "mimetype": "text/x-python",
   "name": "python",
   "nbconvert_exporter": "python",
   "pygments_lexer": "ipython3",
   "version": "3.12.8"
  }
 },
 "nbformat": 4,
 "nbformat_minor": 5
}
