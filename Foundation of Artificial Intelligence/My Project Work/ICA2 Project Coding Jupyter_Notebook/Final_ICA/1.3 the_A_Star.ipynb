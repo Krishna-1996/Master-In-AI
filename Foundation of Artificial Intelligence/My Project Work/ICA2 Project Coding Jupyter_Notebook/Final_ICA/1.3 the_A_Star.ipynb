{
 "cells": [
  {
   "cell_type": "code",
   "execution_count": 1,
   "metadata": {},
   "outputs": [],
   "source": [
    "from pyamaze import maze, agent, COLOR, textLabel\n",
    "import heapq\n"
   ]
  },
  {
   "cell_type": "code",
   "execution_count": 2,
   "metadata": {},
   "outputs": [],
   "source": [
    "def heuristic(a, b):\n",
    "    # Manhattan distance heuristic\n",
    "    return abs(a[0] - b[0]) + abs(a[1] - b[1])\n"
   ]
  },
  {
   "cell_type": "code",
   "execution_count": 3,
   "metadata": {},
   "outputs": [],
   "source": [
    "def get_next_cell(current, direction):\n",
    "    \"\"\"Calculate the next cell based on the current cell and direction.\"\"\"\n",
    "    x, y = current\n",
    "    if direction == 'E':  # Move east\n",
    "        return (x, y + 1)\n",
    "    elif direction == 'W':  # Move west\n",
    "        return (x, y - 1)\n",
    "    elif direction == 'N':  # Move north\n",
    "        return (x - 1, y)\n",
    "    elif direction == 'S':  # Move south\n",
    "        return (x + 1, y)\n",
    "    return current  # Return the current cell if direction is invalid\n"
   ]
  },
  {
   "cell_type": "code",
   "execution_count": 4,
   "metadata": {},
   "outputs": [],
   "source": [
    "def A_star_search(maze_obj, start=None, goal=None):\n",
    "    if start is None:\n",
    "        start = (maze_obj.rows, maze_obj.cols)\n",
    "\n",
    "    if goal is None:\n",
    "        goal = (maze_obj.rows // 2, maze_obj.cols // 2)\n",
    "\n",
    "    if not (0 <= goal[0] < maze_obj.rows and 0 <= goal[1] < maze_obj.cols):\n",
    "        raise ValueError(f\"Invalid goal position: {goal}. It must be within the bounds of the maze.\")\n",
    "\n",
    "    # Min-heap priority queue\n",
    "    frontier = []\n",
    "    heapq.heappush(frontier, (0 + heuristic(start, goal), start))  # (f-cost, position)\n",
    "    visited = {}\n",
    "    exploration_order = []\n",
    "    explored = set([start])\n",
    "    g_costs = {start: 0}\n",
    "\n",
    "    while frontier: \n",
    "        _, current = heapq.heappop(frontier)\n",
    "\n",
    "        if current == goal:\n",
    "            break\n",
    "\n",
    "        for direction in 'ESNW':\n",
    "            if maze_obj.maze_map[current][direction]:\n",
    "                next_cell = get_next_cell(current, direction)\n",
    "                new_g_cost = g_costs[current] + 1  # +1 for each move (uniform cost)\n",
    "                \n",
    "                if next_cell not in explored or new_g_cost < g_costs.get(next_cell, float('inf')):\n",
    "                    g_costs[next_cell] = new_g_cost\n",
    "                    f_cost = new_g_cost + heuristic(next_cell, goal)\n",
    "                    heapq.heappush(frontier, (f_cost, next_cell))\n",
    "                    visited[next_cell] = current\n",
    "                    exploration_order.append(next_cell)\n",
    "                    explored.add(next_cell)\n",
    "\n",
    "    path_to_goal = {}\n",
    "    cell = goal\n",
    "    while cell != start:\n",
    "        path_to_goal[visited[cell]] = cell\n",
    "        cell = visited[cell]\n",
    "\n",
    "    return exploration_order, visited, path_to_goal\n"
   ]
  },
  {
   "cell_type": "code",
   "execution_count": 5,
   "metadata": {},
   "outputs": [],
   "source": [
    "# Main function for A* search\n",
    "if __name__ == '__main__':\n",
    "    m = maze(50, 120)\n",
    "    m.CreateMaze(loadMaze='...//S3454618_Sharma_Krishna_Gopal_A_Comparative_Study_of_Solving_Maze_maze_update2.csv')\n",
    "\n",
    "    goal_position = (1, 1)  # Example goal, change to any valid coordinate\n",
    "\n",
    "    exploration_order, visited_cells, path_to_goal = A_star_search(m, goal=goal_position)\n",
    "\n",
    "    agent_astar = agent(m, footprints=True, shape='square', color=COLOR.red, filled=True)\n",
    "    agent_trace = agent(m, footprints=True, shape='square', color=COLOR.yellow, filled=True)\n",
    "    agent_goal = agent(m, goal_position[0], goal_position[1], footprints=True, color=COLOR.green, shape='square', filled=True)\n",
    "\n",
    "    m.tracePath({agent_astar: exploration_order}, delay=1)\n",
    "    m.tracePath({agent_trace: path_to_goal}, delay=1)\n",
    "    m.tracePath({agent_goal: visited_cells}, delay=1)\n",
    "\n",
    "    textLabel(m, 'Goal Position', str(goal_position))\n",
    "    textLabel(m, 'A* Path Length', len(path_to_goal) + 1)\n",
    "    textLabel(m, 'A* Search Length', len(exploration_order))\n",
    "\n",
    "    m.run()\n"
   ]
  },
  {
   "cell_type": "code",
   "execution_count": null,
   "metadata": {},
   "outputs": [],
   "source": []
  }
 ],
 "metadata": {
  "kernelspec": {
   "display_name": "Python 3",
   "language": "python",
   "name": "python3"
  },
  "language_info": {
   "codemirror_mode": {
    "name": "ipython",
    "version": 3
   },
   "file_extension": ".py",
   "mimetype": "text/x-python",
   "name": "python",
   "nbconvert_exporter": "python",
   "pygments_lexer": "ipython3",
   "version": "3.12.8"
  }
 },
 "nbformat": 4,
 "nbformat_minor": 2
}
