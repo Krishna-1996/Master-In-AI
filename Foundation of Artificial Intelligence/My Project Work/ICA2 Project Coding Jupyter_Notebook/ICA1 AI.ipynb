{
 "cells": [
  {
   "cell_type": "code",
   "execution_count": 17,
   "id": "d315bef5-62a8-48da-baa1-dd55dcf08a58",
   "metadata": {},
   "outputs": [],
   "source": [
    "# Import required libraries\n",
    "import pandas as pd\n",
    "import heapq\n",
    "import ast # Import ast for safe evaluation of tuples"
   ]
  },
  {
   "cell_type": "code",
   "execution_count": 18,
   "id": "d6dc802a-8f38-49d5-93c4-c2cf4b81d738",
   "metadata": {},
   "outputs": [
    {
     "name": "stdout",
     "output_type": "stream",
     "text": [
      "First few rows of the CSV:\n",
      "          0  1  2  3  4\n",
      "0    cell    E  W  N  S\n",
      "1    (1, 1)  0  0  0  1\n",
      "2    (2, 1)  0  0  1  1\n",
      "3    (3, 1)  1  0  1  0\n",
      "4    (4, 1)  1  0  0  1\n",
      "Error parsing cell   cell  : malformed node or string on line 1: <ast.Name object at 0x0000024F473FE8D0>\n"
     ]
    }
   ],
   "source": [
    "import pandas as pd\n",
    "import ast\n",
    "\n",
    "# Debug: Read the CSV and print the first few rows to inspect\n",
    "df = pd.read_csv('D:/Masters Projects/Master-In-AI/Foundation of Artificial Intelligence/My Project Work/maze--2024-11-30--21-36-21.csv', header=None)\n",
    "print(\"First few rows of the CSV:\")\n",
    "print(df.head())  # This will display the first few rows of the CSV\n",
    "\n",
    "def parse_maze(file_path):\n",
    "    \"\"\"Parse the maze CSV into a graph representation.\"\"\"\n",
    "    df = pd.read_csv(file_path, header=None)\n",
    "    graph = {}\n",
    "\n",
    "    for _, row in df.iterrows():\n",
    "        if row[0] == \"cell\":  # Skip any header or irrelevant rows\n",
    "            continue\n",
    "\n",
    "        try:\n",
    "            # Use ast.literal_eval for safe evaluation of \"(x, y)\" strings to tuple\n",
    "            cell = ast.literal_eval(row[0])  # Converts string \"(x, y)\" to tuple (x, y)\n",
    "        except (ValueError, SyntaxError) as e:\n",
    "            print(f\"Error parsing cell {row[0]}: {e}\")\n",
    "            continue  # Skip this row if the parsing fails\n",
    "\n",
    "        neighbors = []\n",
    "\n",
    "        # Check each direction (East, West, North, South) and add valid neighbors\n",
    "        if row[1]:  # East\n",
    "            neighbor = (cell[0], cell[1] + 1)\n",
    "            if 0 <= neighbor[0] < len(df) and 0 <= neighbor[1] < len(df.columns):  # Check boundary\n",
    "                neighbors.append(neighbor)\n",
    "        if row[2]:  # West\n",
    "            neighbor = (cell[0], cell[1] - 1)\n",
    "            if 0 <= neighbor[0] < len(df) and 0 <= neighbor[1] < len(df.columns):  # Check boundary\n",
    "                neighbors.append(neighbor)\n",
    "        if row[3]:  # North\n",
    "            neighbor = (cell[0] - 1, cell[1])\n",
    "            if 0 <= neighbor[0] < len(df) and 0 <= neighbor[1] < len(df.columns):  # Check boundary\n",
    "                neighbors.append(neighbor)\n",
    "        if row[4]:  # South\n",
    "            neighbor = (cell[0] + 1, cell[1])\n",
    "            if 0 <= neighbor[0] < len(df) and 0 <= neighbor[1] < len(df.columns):  # Check boundary\n",
    "                neighbors.append(neighbor)\n",
    "\n",
    "        graph[cell] = neighbors\n",
    "\n",
    "    return graph\n",
    "\n",
    "\n",
    "# Load the maze and set up start/goal positions\n",
    "maze_file_path = 'D:/Masters Projects/Master-In-AI/Foundation of Artificial Intelligence/My Project Work/maze--2024-11-30--21-36-21.csv'\n",
    "maze_graph = parse_maze(maze_file_path)\n",
    "start = (30, 50)\n",
    "goal = (10, 10)  # Example goal; change as needed\n"
   ]
  },
  {
   "cell_type": "code",
   "execution_count": 19,
   "id": "ed4e9975-3740-49f3-8e6a-a80537007480",
   "metadata": {},
   "outputs": [
    {
     "ename": "KeyError",
     "evalue": "(30, 51)",
     "output_type": "error",
     "traceback": [
      "\u001b[1;31m---------------------------------------------------------------------------\u001b[0m",
      "\u001b[1;31mKeyError\u001b[0m                                  Traceback (most recent call last)",
      "Cell \u001b[1;32mIn[19], line 23\u001b[0m\n\u001b[0;32m     20\u001b[0m     \u001b[38;5;28;01mreturn\u001b[39;00m \u001b[38;5;28;01mNone\u001b[39;00m\n\u001b[0;32m     22\u001b[0m \u001b[38;5;66;03m# Execute BFS\u001b[39;00m\n\u001b[1;32m---> 23\u001b[0m bfs_path \u001b[38;5;241m=\u001b[39m \u001b[43mbfs\u001b[49m\u001b[43m(\u001b[49m\u001b[43mmaze_graph\u001b[49m\u001b[43m,\u001b[49m\u001b[43m \u001b[49m\u001b[43mstart\u001b[49m\u001b[43m,\u001b[49m\u001b[43m \u001b[49m\u001b[43mgoal\u001b[49m\u001b[43m)\u001b[49m\n\u001b[0;32m     24\u001b[0m \u001b[38;5;28mprint\u001b[39m(\u001b[38;5;124m\"\u001b[39m\u001b[38;5;124mBFS Path:\u001b[39m\u001b[38;5;124m\"\u001b[39m, bfs_path)\n",
      "Cell \u001b[1;32mIn[19], line 16\u001b[0m, in \u001b[0;36mbfs\u001b[1;34m(graph, start, goal)\u001b[0m\n\u001b[0;32m     12\u001b[0m     \u001b[38;5;28;01mcontinue\u001b[39;00m\n\u001b[0;32m     14\u001b[0m visited\u001b[38;5;241m.\u001b[39madd(current)\n\u001b[1;32m---> 16\u001b[0m \u001b[38;5;28;01mfor\u001b[39;00m neighbor \u001b[38;5;129;01min\u001b[39;00m \u001b[43mgraph\u001b[49m\u001b[43m[\u001b[49m\u001b[43mcurrent\u001b[49m\u001b[43m]\u001b[49m:\n\u001b[0;32m     17\u001b[0m     \u001b[38;5;28;01mif\u001b[39;00m neighbor \u001b[38;5;129;01mnot\u001b[39;00m \u001b[38;5;129;01min\u001b[39;00m visited:\n\u001b[0;32m     18\u001b[0m         queue\u001b[38;5;241m.\u001b[39mappend((neighbor, path \u001b[38;5;241m+\u001b[39m [neighbor]))\n",
      "\u001b[1;31mKeyError\u001b[0m: (30, 51)"
     ]
    }
   ],
   "source": [
    "# BFS Implementation\n",
    "def bfs(graph, start, goal):\n",
    "    \"\"\"Breadth-First Search.\"\"\"\n",
    "    queue = [(start, [start])]\n",
    "    visited = set()\n",
    "\n",
    "    while queue:\n",
    "        current, path = queue.pop(0)\n",
    "        if current == goal:\n",
    "            return path\n",
    "        if current in visited:\n",
    "            continue\n",
    "\n",
    "        visited.add(current)\n",
    "\n",
    "        for neighbor in graph[current]:\n",
    "            if neighbor not in visited:\n",
    "                queue.append((neighbor, path + [neighbor]))\n",
    "\n",
    "    return None\n",
    "\n",
    "# Execute BFS\n",
    "bfs_path = bfs(maze_graph, start, goal)\n",
    "print(\"BFS Path:\", bfs_path)\n"
   ]
  },
  {
   "cell_type": "code",
   "execution_count": 12,
   "id": "84bb7fa8-204a-46b4-93f4-54e8b7b06273",
   "metadata": {
    "collapsed": true,
    "jupyter": {
     "outputs_hidden": true
    }
   },
   "outputs": [
    {
     "name": "stdout",
     "output_type": "stream",
     "text": [
      "Error parsing cell   cell  : malformed node or string on line 1: <ast.Name object at 0x0000024F4755D810>\n"
     ]
    },
    {
     "ename": "NameError",
     "evalue": "name 'df' is not defined",
     "output_type": "error",
     "traceback": [
      "\u001b[1;31m---------------------------------------------------------------------------\u001b[0m",
      "\u001b[1;31mNameError\u001b[0m                                 Traceback (most recent call last)",
      "Cell \u001b[1;32mIn[12], line 4\u001b[0m\n\u001b[0;32m      2\u001b[0m maze_file_path \u001b[38;5;241m=\u001b[39m \u001b[38;5;124m'\u001b[39m\u001b[38;5;124mD:/Masters Projects/Master-In-AI/Foundation of Artificial Intelligence/My Project Work/maze--2024-11-30--21-36-21.csv\u001b[39m\u001b[38;5;124m'\u001b[39m\n\u001b[0;32m      3\u001b[0m maze_graph \u001b[38;5;241m=\u001b[39m parse_maze(maze_file_path)\n\u001b[1;32m----> 4\u001b[0m \u001b[38;5;28mprint\u001b[39m(\u001b[43mdf\u001b[49m\u001b[38;5;241m.\u001b[39mhead())\n\u001b[0;32m      5\u001b[0m start \u001b[38;5;241m=\u001b[39m (\u001b[38;5;241m30\u001b[39m, \u001b[38;5;241m50\u001b[39m)\n\u001b[0;32m      6\u001b[0m goal \u001b[38;5;241m=\u001b[39m (\u001b[38;5;241m10\u001b[39m, \u001b[38;5;241m10\u001b[39m)  \u001b[38;5;66;03m# Example goal; change as needed\u001b[39;00m\n",
      "\u001b[1;31mNameError\u001b[0m: name 'df' is not defined"
     ]
    }
   ],
   "source": []
  },
  {
   "cell_type": "code",
   "execution_count": null,
   "id": "7b1b027d-dcb2-470e-939a-813fee19dbe6",
   "metadata": {
    "collapsed": true,
    "jupyter": {
     "outputs_hidden": true
    }
   },
   "outputs": [],
   "source": []
  }
 ],
 "metadata": {
  "kernelspec": {
   "display_name": "Python 3 (ipykernel)",
   "language": "python",
   "name": "python3"
  },
  "language_info": {
   "codemirror_mode": {
    "name": "ipython",
    "version": 3
   },
   "file_extension": ".py",
   "mimetype": "text/x-python",
   "name": "python",
   "nbconvert_exporter": "python",
   "pygments_lexer": "ipython3",
   "version": "3.12.8"
  }
 },
 "nbformat": 4,
 "nbformat_minor": 5
}
